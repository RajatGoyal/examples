{
  "cells": [
    {
      "cell_type": "code",
      "source": [
        "library(IRdisplay)\n",
        "\n",
        "data <- list(list(x=c(1999, 2000, 2001, 2002), y=c(10, 15, 13, 17), type='scatter'))\n",
        "figure <- list(data=data)\n",
        "\n",
        "mimebundle <- list('application/vnd.plotly.v1+json'=figure)\n",
        "#mimebundle[[]] <- figure\n",
        "IRdisplay::publish_mimebundle(mimebundle)"
      ],
      "outputs": [
        {
          "output_type": "display_data",
          "data": {
            "application/vnd.plotly.v1+json": {
              "data": [
                {
                  "x": [
                    1999,
                    2000,
                    2001,
                    2002
                  ],
                  "y": [
                    10,
                    15,
                    13,
                    17
                  ],
                  "type": "scatter"
                }
              ]
            }
          },
          "metadata": {}
        }
      ],
      "execution_count": 1,
      "metadata": {
        "collapsed": false
      }
    },
    {
      "cell_type": "code",
      "source": [],
      "outputs": [],
      "execution_count": null,
      "metadata": {
        "collapsed": false,
        "outputHidden": false,
        "inputHidden": false
      }
    }
  ],
  "metadata": {
    "kernel_info": {
      "name": "ir"
    },
    "kernelspec": {
      "name": "ir",
      "language": "R",
      "display_name": "R"
    },
    "language_info": {
      "name": "R",
      "codemirror_mode": "r",
      "pygments_lexer": "r",
      "mimetype": "text/x-r-source",
      "file_extension": ".r",
      "version": "3.4.1"
    },
    "nteract": {
      "version": "0.8.3"
    }
  },
  "nbformat": 4,
  "nbformat_minor": 0
}