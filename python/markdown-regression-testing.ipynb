{
 "cells": [
  {
   "cell_type": "markdown",
   "metadata": {},
   "source": [
    "# Watching Paint Dry\n",
    "\n",
    "The composited _color_ of the **paint** must not change during drying. The\n",
    "optical blending function is used with this constraint to compensate for the new\n",
    "dry layer $C_{d}^{\\prime}$, when some volume $\\delta_{\\alpha}$ is removed from\n",
    "the wet layer.\n",
    "\n",
    "$$\n",
    "C_{d}^{\\prime} = \\frac{\\alpha \\times C_{w} + (1 - \\delta) \\times C_d - a^{\\prime}C_w}{1 - \\alpha^\\prime}, \\alpha^\\prime = \\alpha - \\delta_\\alpha\n",
    "$$\n",
    "\n",
    "The dry layer of the canvas uses a relative height field to allow for unlimited\n",
    "volume of paint to be added, with a constraint only on the relative change in\n",
    "height between texels."
   ]
  },
  {
   "cell_type": "code",
   "execution_count": 1,
   "metadata": {
    "collapsed": false,
    "inputHidden": false,
    "outputHidden": false
   },
   "outputs": [
    {
     "data": {
      "text/markdown": [
       "# Non-Homogeneous Poisson Process Likelihood Function\n",
       "$$\n",
       "\\frac{\\left(Λ_{0,T}\\left(t\\right)\\right)^k e^{\\left(Λ_{0,T}\\left(t\\right)\\right)}}{k!}\n",
       "$$"
      ],
      "text/plain": [
       "<IPython.core.display.Markdown object>"
      ]
     },
     "execution_count": 1,
     "metadata": {},
     "output_type": "execute_result"
    }
   ],
   "source": [
    "from IPython.display import Markdown\n",
    "Markdown(r\"\"\"# Non-Homogeneous Poisson Process Likelihood Function\n",
    "$$\n",
    "\\frac{\\left(Λ_{0,T}\\left(t\\right)\\right)^k e^{\\left(Λ_{0,T}\\left(t\\right)\\right)}}{k!}\n",
    "$$\"\"\")"
   ]
  },
  {
   "cell_type": "code",
   "execution_count": 1,
   "metadata": {
    "collapsed": false,
    "inputHidden": false,
    "outputHidden": false
   },
   "outputs": [
    {
     "data": {
      "text/latex": [
       "\\LaTeX"
      ],
      "text/plain": [
       "<IPython.core.display.Latex object>"
      ]
     },
     "metadata": {},
     "output_type": "display_data"
    }
   ],
   "source": [
    "from IPython.display import Latex\n",
    "display(Latex(r\"\\LaTeX\"))"
   ]
  },
  {
   "cell_type": "code",
   "execution_count": 3,
   "metadata": {
    "collapsed": false,
    "inputHidden": false,
    "outputHidden": false
   },
   "outputs": [
    {
     "data": {
      "text/latex": [
       "\\begin{eqnarray}\n",
       "\\nabla \\times \\vec{\\mathbf{B}} -\\, \\frac1c\\, \\frac{\\partial\\vec{\\mathbf{E}}}{\\partial t} & = & \\frac{4\\pi}{c}\\vec{\\mathbf{j}} \\\\\n",
       "\\nabla \\cdot \\vec{\\mathbf{E}} & = & 4 \\pi \\rho \\\\\n",
       "\\nabla \\times \\vec{\\mathbf{E}}\\, +\\, \\frac1c\\, \\frac{\\partial\\vec{\\mathbf{B}}}{\\partial t} & = & \\vec{\\mathbf{0}} \\\\\n",
       "\\nabla \\cdot \\vec{\\mathbf{B}} & = & 0 \n",
       "\\end{eqnarray}"
      ],
      "text/plain": [
       "<IPython.core.display.Latex object>"
      ]
     },
     "execution_count": 3,
     "metadata": {},
     "output_type": "execute_result"
    }
   ],
   "source": [
    "from IPython.display import Latex\n",
    "Latex(r\"\"\"\\begin{eqnarray}\n",
    "\\nabla \\times \\vec{\\mathbf{B}} -\\, \\frac1c\\, \\frac{\\partial\\vec{\\mathbf{E}}}{\\partial t} & = & \\frac{4\\pi}{c}\\vec{\\mathbf{j}} \\\\\n",
    "\\nabla \\cdot \\vec{\\mathbf{E}} & = & 4 \\pi \\rho \\\\\n",
    "\\nabla \\times \\vec{\\mathbf{E}}\\, +\\, \\frac1c\\, \\frac{\\partial\\vec{\\mathbf{B}}}{\\partial t} & = & \\vec{\\mathbf{0}} \\\\\n",
    "\\nabla \\cdot \\vec{\\mathbf{B}} & = & 0 \n",
    "\\end{eqnarray}\"\"\")"
   ]
  },
  {
   "cell_type": "markdown",
   "metadata": {},
   "source": [
    "https://github.com/nteract/nteract/issues/2434\n",
    "\n",
    "$\\hat{y}_{i}=\\hat\\beta_{0}+\\hat\\beta_{1}x_{i}$\n",
    "\n",
    "$\\sum\\limits_{i=1}^nx_i$\n",
    "\n"
   ]
  },
  {
   "cell_type": "markdown",
   "metadata": {},
   "source": [
    "https://github.com/nteract/nteract/issues/2012\n",
    "\n",
    "$$\n",
    "\\begin{align}\n",
    "a &= 1 \\\\\n",
    "b &= 2\n",
    "\\end{align}\n",
    "$$"
   ]
  },
  {
   "cell_type": "markdown",
   "metadata": {},
   "source": [
    "https://github.com/nteract/nteract/issues/1557\n",
    "\n\n",
    "| Age | Number of Cars owned | Owns House | Number of Children| Marital status (s/m/d/w) | Owns a dog | Bought a Boat|\n",
    "|-|-|-|-|-|-|-|\n",
    "|66|1|y|2|w|n|y|\n",
    "|52|2|y|3|m|n|y|\n",
    "|22|0|n|0|m|y|n|\n",
    "|25|1|n|1|s|n|n|\n",
    "|44|0|n|2|d|y|n|\n",
    "|39|1|y|2|m|y|n|\n",
    "|26|1|n|2|s|n|n|\n",
    "|40|3|y|1|m|y|n|\n",
    "|53|2|y|2|d|n|y|\n",
    "|64|2|y|3|d|n|n|\n",
    "|58|2|y|2|m|y|y|\n",
    "|33|1|n|1|s|n|n|\n"
   ]
  },
  {
   "cell_type": "markdown",
   "metadata": {},
   "source": [
    "\n",
    "~~hey~~\n",
    "\n",
    "```python\n",
    "import this\n",
    "\n",
    "print('hey')\n",
    "```\n",
    "\n"
   ]
  },
  {
   "cell_type": "markdown",
   "metadata": {},
   "source": [
    "1. Thing"
   ]
  },
  {
   "cell_type": "markdown",
   "metadata": {
    "collapsed": false,
    "inputHidden": false,
    "outputHidden": false
   },
   "source": [
    "1. This is a numbered list\n",
    "2. And within it\n",
    "  * There's a bulleted list which should be indented\n",
    "3. It's not, and totally should\n",
    "4. Hopefully this gets fixed"
   ]
  },
  {
   "cell_type": "markdown",
   "metadata": {},
   "source": []
  }
 ],
 "metadata": {
  "kernel_info": {
   "name": "python3"
  },
  "kernelspec": {
   "display_name": "Python 3",
   "language": "python",
   "name": "python3"
  },
  "language_info": {
   "codemirror_mode": {
    "name": "ipython",
    "version": 3
   },
   "file_extension": ".py",
   "mimetype": "text/x-python",
   "name": "python",
   "nbconvert_exporter": "python",
   "pygments_lexer": "ipython3",
   "version": "3.7.2"
  },
  "nteract": {
   "version": "nteract-on-jupyter@2.0.4"
  },
  "title": "Meet Markdown and Math"
 },
 "nbformat": 4,
 "nbformat_minor": 4
}
